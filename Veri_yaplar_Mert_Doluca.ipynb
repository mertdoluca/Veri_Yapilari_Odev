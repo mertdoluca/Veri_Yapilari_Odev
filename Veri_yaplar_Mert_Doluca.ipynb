{
 "cells": [
  {
   "cell_type": "markdown",
   "id": "032d81b2",
   "metadata": {},
   "source": [
    "# 1\n",
    "x = 3 ----> floata çevirelim. Çevirdikten sonra beri tipinide yazdıralım.\n",
    "\n",
    "y = 4.5 -----> integere çevirelim. Çevirdikten sonra beri tipinide yazdıralım.\n",
    "\n",
    "z = \"8\" -----> integera çevirelim. Çevirdikten sonra beri tipinide yazdıralım.\n",
    "\n",
    "a = \"12\" -----> floata çevirelim. Çevirdikten sonra beri tipinide yazdıralım.\n",
    "\n",
    "b = \"46.8\" ------> integera çevirelim. Çevirdikten sonra beri tipinide yazdıralım."
   ]
  },
  {
   "cell_type": "code",
   "execution_count": null,
   "id": "f1b735c0",
   "metadata": {},
   "outputs": [],
   "source": [
    "\"x = 3 ----> floata çevirelim. Çevirdikten sonra beri tipinide yazdıralım.\"\n",
    "\n",
    "x=3\n",
    "float(x)\n",
    "print(x)\n",
    "type(x)"
   ]
  },
  {
   "cell_type": "code",
   "execution_count": null,
   "id": "bfd57b4f",
   "metadata": {},
   "outputs": [],
   "source": [
    "\"y = 4.5 -----> integere çevirelim. Çevirdikten sonra beri tipinide yazdıralım.\"\n",
    "y=4.5\n",
    "int(y)\n",
    "print(y)\n",
    "print(type(y))\n"
   ]
  },
  {
   "cell_type": "code",
   "execution_count": null,
   "id": "a4a32fd8",
   "metadata": {},
   "outputs": [],
   "source": [
    "\"z = \"8\" -----> integera çevirelim. Çevirdikten sonra beri tipinide yazdıralım.\"\n",
    "\n",
    "z=\"8\"\n",
    "int(z)\n",
    "print(z)\n",
    "print(type(z))"
   ]
  },
  {
   "cell_type": "code",
   "execution_count": null,
   "id": "9908f7b9",
   "metadata": {},
   "outputs": [],
   "source": [
    "\"a = \"12\" -----> floata çevirelim. Çevirdikten sonra beri tipinide yazdıralım.\"\n",
    "\n",
    "a=\"12\"\n",
    "float(a)\n",
    "print(a)\n",
    "print(type(a))"
   ]
  },
  {
   "cell_type": "code",
   "execution_count": null,
   "id": "e0287539",
   "metadata": {},
   "outputs": [],
   "source": [
    "\"b = \"46.8\" ------> integera çevirelim. Çevirdikten sonra beri tipinide yazdıralım.\"\n",
    "\n",
    "b = \"46.8\"\n",
    "int(b)\n",
    "print(b)\n",
    "print(type(b))"
   ]
  },
  {
   "cell_type": "markdown",
   "id": "95509718",
   "metadata": {},
   "source": [
    "# 2 \n",
    "İsimlerden oluşan üç değişkene yaş değerleri atanır. Belirlenen üç değişken birbiriyle karşılaştırma operatörleri ile karşılaştırılır. Bu karşılaştırmalara mantıksal operatörler de eklenir."
   ]
  },
  {
   "cell_type": "code",
   "execution_count": null,
   "id": "64961289",
   "metadata": {},
   "outputs": [],
   "source": [
    "Mert = 22\n",
    "Idil = 15\n",
    "Yigit = 20"
   ]
  },
  {
   "cell_type": "markdown",
   "id": "9617a92d",
   "metadata": {},
   "source": [
    "Mert > Idil\n",
    "Idil < Yigit\n",
    "Yigit > Mert \"False\""
   ]
  },
  {
   "cell_type": "code",
   "execution_count": null,
   "id": "50f77b4f",
   "metadata": {},
   "outputs": [],
   "source": [
    "Mert > Idil && Idil < Yigit\n",
    "Idil < Yigit || Mert < Yigit\n",
    "!(Yigit > Mert) "
   ]
  },
  {
   "cell_type": "code",
   "execution_count": null,
   "id": "769000c8",
   "metadata": {},
   "outputs": [],
   "source": []
  },
  {
   "cell_type": "markdown",
   "id": "a1a0eb92",
   "metadata": {},
   "source": [
    "# 3\n",
    "Kullanıcıdan iki değer girmesini istenir. Girilen değerlerin toplama, çıkarma, çarpma, bölme sonuçlarını yazdırılır."
   ]
  },
  {
   "cell_type": "code",
   "execution_count": null,
   "id": "c361e45a",
   "metadata": {},
   "outputs": [],
   "source": [
    "userValF = input(\"Enter your first value: \") \n",
    "userValS = input(\"Enter your second value: \") \n",
    "print({\"Is your value: \"} + {\"First : \" userValF } + {\"Second : \" userValS })\n",
    "\n",
    "addision = userValF + userValS\n",
    "subtraction = userValF - userValS\n",
    "division = userValF / userValS\n",
    "multiplication = userValF * userValS\n",
    "\n",
    "print(addision)\n",
    "print(subtraction)\n",
    "print(division)\n",
    "print(multiplication)\n",
    "\n"
   ]
  },
  {
   "cell_type": "markdown",
   "id": "060b0bea",
   "metadata": {},
   "source": [
    "# 4\n",
    "Kullanıcıdan isim, yaş, şehir ve meslek bilgilerini istenir ve cevaplarını yazdırılır."
   ]
  },
  {
   "cell_type": "code",
   "execution_count": null,
   "id": "6f5dea59",
   "metadata": {},
   "outputs": [],
   "source": [
    "userName = input(\"Enter Name: \") \n",
    "userAge = input(\"Enter Age: \") \n",
    "userCity = input(\"Enter City: \")\n",
    "userJob = input(\"Enter Job: \") \n",
    "\n",
    "print({userName } +{userAge } + {userCity } + {userJob } )"
   ]
  },
  {
   "cell_type": "markdown",
   "id": "55e1a34e",
   "metadata": {},
   "source": [
    "# 5\n",
    "\"Hi-Kod Veri Bilimi Atölyesi\" ifadesini bir değişkene tanımlanır.\n",
    "\n",
    "\n",
    " 1. İfadedeki her bir kelimeyi (\"Hi-Kod\", \"Veri\", \"Bilimi\", \"Atölyesi\") değişken içinden seçilir. \n",
    " 2. İfadeyi hepsini büyük harf olacak hale çevrilir. (\"HI-KOD VERİ BİLİMİ ATÖLYESİ\") \n",
    " 3. İfadeyi hepsini büyük harf olacak hale çevrilir.(\"hi-kod veri bilimi atölyesi\") \n",
    "\n",
    "\"0123456789\" ifadesindeki yalnızca çift sayıları ve yalnızca tek sayıları seçilir. (\"02468\", \"13579\")"
   ]
  },
  {
   "cell_type": "code",
   "execution_count": null,
   "id": "0fc1bc40",
   "metadata": {},
   "outputs": [],
   "source": [
    "val = \"Hi-Kod Veri Bilimi Atölyesi\"\n",
    "val.split(\" \")\n",
    "print(val)\n",
    "\n",
    "val.upper()\n",
    "\n",
    "val.lower()\n",
    "\n",
    "val2 = \"0123456789\"\n",
    "val2[0::2]\n",
    "val2[1::2]\n",
    "\n"
   ]
  }
 ],
 "metadata": {
  "kernelspec": {
   "display_name": "Python 3 (ipykernel)",
   "language": "python",
   "name": "python3"
  },
  "language_info": {
   "codemirror_mode": {
    "name": "ipython",
    "version": 3
   },
   "file_extension": ".py",
   "mimetype": "text/x-python",
   "name": "python",
   "nbconvert_exporter": "python",
   "pygments_lexer": "ipython3",
   "version": "3.9.12"
  }
 },
 "nbformat": 4,
 "nbformat_minor": 5
}
